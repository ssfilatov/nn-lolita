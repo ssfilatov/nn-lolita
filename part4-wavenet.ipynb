{
 "cells": [
  {
   "cell_type": "code",
   "execution_count": 1,
   "id": "5871c9ee",
   "metadata": {},
   "outputs": [],
   "source": [
    "import torch\n",
    "import torch.nn.functional as F\n",
    "import matplotlib.pyplot as plt # for making figures\n",
    "%matplotlib inline"
   ]
  },
  {
   "cell_type": "code",
   "execution_count": 2,
   "id": "09918c50",
   "metadata": {},
   "outputs": [
    {
     "name": "stderr",
     "output_type": "stream",
     "text": [
      "[nltk_data] Downloading package punkt to /Users/sfilatov/nltk_data...\n",
      "[nltk_data]   Package punkt is already up-to-date!\n",
      "[nltk_data] Downloading package averaged_perceptron_tagger to\n",
      "[nltk_data]     /Users/sfilatov/nltk_data...\n",
      "[nltk_data]   Package averaged_perceptron_tagger is already up-to-\n",
      "[nltk_data]       date!\n"
     ]
    },
    {
     "data": {
      "text/plain": [
       "True"
      ]
     },
     "execution_count": 2,
     "metadata": {},
     "output_type": "execute_result"
    }
   ],
   "source": [
    "import nltk\n",
    "nltk.download('punkt')\n",
    "nltk.download('averaged_perceptron_tagger')"
   ]
  },
  {
   "cell_type": "code",
   "execution_count": 173,
   "id": "613d0ce1",
   "metadata": {},
   "outputs": [],
   "source": [
    "raw_text = open('../lolita.txt', 'rb').read()\n",
    "from nltk.tokenize import RegexpTokenizer\n",
    "\n",
    "SIZE = 2000\n",
    "sentences = []\n",
    "\n",
    "sent_text = nltk.sent_tokenize(raw_text.decode(\"windows-1251\"))\n",
    "for sentence in sent_text:\n",
    "    tokenized_text = nltk.word_tokenize(sentence)\n",
    "#     tagged = nltk.pos_tag(tokenized_text)\n",
    "    sentences.append(tokenized_text)\n",
    "\n",
    "# skip intro\n",
    "intro = 30\n",
    "sentences = sentences[intro:SIZE+intro]"
   ]
  },
  {
   "cell_type": "code",
   "execution_count": 174,
   "id": "427ea5d3",
   "metadata": {},
   "outputs": [],
   "source": [
    "res = set()\n",
    "for s in sentences:\n",
    "  for w in s:\n",
    "    res.add(w)\n",
    "    \n",
    "res.add('<S>')\n",
    "res.add('<E>')\n",
    "L = len(res)\n",
    "wtoi = {w:i for i,w in enumerate(list(res))}\n",
    "itow = {i:w for w,i in wtoi.items()}\n",
    "start = wtoi['<S>']\n",
    "vocab_size = len(itow)"
   ]
  },
  {
   "cell_type": "code",
   "execution_count": 175,
   "id": "389afa25",
   "metadata": {},
   "outputs": [],
   "source": [
    "N = torch.zeros((L, L), dtype=torch.int32)\n",
    "for s in sentences:\n",
    "  ws = ['<S>'] + list(s) + ['<E>']\n",
    "  for w1, w2 in zip(ws, ws[1:]):\n",
    "    ix1 = wtoi[w1]\n",
    "    ix2 = wtoi[w2]\n",
    "    N[ix1, ix2] += 1"
   ]
  },
  {
   "cell_type": "code",
   "execution_count": 176,
   "id": "038ee1e5",
   "metadata": {},
   "outputs": [
    {
     "name": "stdout",
     "output_type": "stream",
     "text": [
      "torch.Size([26128, 8]) torch.Size([26128])\n",
      "torch.Size([3201, 8]) torch.Size([3201])\n",
      "torch.Size([3272, 8]) torch.Size([3272])\n"
     ]
    }
   ],
   "source": [
    "# build the dataset\n",
    "block_size = 8 # context length: how many characters do we take to predict the next one?\n",
    "\n",
    "def build_dataset(sentences):  \n",
    "  X, Y = [], []\n",
    "  for s in sentences:\n",
    "\n",
    "      context = [start] * block_size\n",
    "      for w in s + ['<E>']:\n",
    "        ix = wtoi[w]\n",
    "        X.append(context)\n",
    "        Y.append(ix)\n",
    "        context = context[1:] + [ix] # crop and append\n",
    "\n",
    "  X = torch.tensor(X)\n",
    "  Y = torch.tensor(Y)\n",
    "  print(X.shape, Y.shape)\n",
    "  return X, Y\n",
    "\n",
    "import random\n",
    "random.seed(42)\n",
    "random.shuffle(sentences)\n",
    "n1 = int(0.8*len(sentences))\n",
    "n2 = int(0.9*len(sentences))\n",
    "\n",
    "Xtr, Ytr = build_dataset(sentences[:n1])\n",
    "Xdev, Ydev = build_dataset(sentences[n1:n2])\n",
    "Xte, Yte = build_dataset(sentences[n2:])"
   ]
  },
  {
   "cell_type": "code",
   "execution_count": 177,
   "id": "902e01ee",
   "metadata": {},
   "outputs": [
    {
     "name": "stdout",
     "output_type": "stream",
     "text": [
      "<S> <S> <S> <S> <S> <S> <S> <S> --> Гумберт\n",
      "<S> <S> <S> <S> <S> <S> <S> Гумберт --> Гумберт\n",
      "<S> <S> <S> <S> <S> <S> Гумберт Гумберт --> ,\n",
      "<S> <S> <S> <S> <S> Гумберт Гумберт , --> обливаясь\n",
      "<S> <S> <S> <S> Гумберт Гумберт , обливаясь --> по\n",
      "<S> <S> <S> Гумберт Гумберт , обливаясь по --> ?\n",
      "<S> <S> Гумберт Гумберт , обливаясь по ? --> том\n",
      "<S> Гумберт Гумберт , обливаясь по ? том --> в\n",
      "Гумберт Гумберт , обливаясь по ? том в --> луче\n",
      "Гумберт , обливаясь по ? том в луче --> безжалостно\n",
      ", обливаясь по ? том в луче безжалостно --> белого\n",
      "обливаясь по ? том в луче безжалостно белого --> света\n",
      "по ? том в луче безжалостно белого света --> и\n",
      "? том в луче безжалостно белого света и --> подвергаясь\n",
      "том в луче безжалостно белого света и подвергаясь --> окрикам\n",
      "в луче безжалостно белого света и подвергаясь окрикам --> и\n",
      "луче безжалостно белого света и подвергаясь окрикам и --> пинкам\n",
      "безжалостно белого света и подвергаясь окрикам и пинкам --> обливающихся\n",
      "белого света и подвергаясь окрикам и пинкам обливающихся --> потом\n",
      "света и подвергаясь окрикам и пинкам обливающихся потом --> полицейских\n"
     ]
    }
   ],
   "source": [
    "for x,y in zip(Xtr[:20], Ytr[:20]):\n",
    "  print(' '.join(itow[ix.item()] for ix in x), '-->', itow[y.item()])"
   ]
  },
  {
   "cell_type": "code",
   "execution_count": 178,
   "id": "e12585c2",
   "metadata": {},
   "outputs": [],
   "source": [
    "# Near copy paste of the layers we have developed in Part 3\n",
    "\n",
    "# -----------------------------------------------------------------------------------------------\n",
    "class Linear:\n",
    "  \n",
    "  def __init__(self, fan_in, fan_out, bias=True):\n",
    "    self.weight = torch.randn((fan_in, fan_out)) / fan_in**0.5 # note: kaiming init\n",
    "    self.bias = torch.zeros(fan_out) if bias else None\n",
    "  \n",
    "  def __call__(self, x):\n",
    "    self.out = x @ self.weight\n",
    "    if self.bias is not None:\n",
    "      self.out += self.bias\n",
    "    return self.out\n",
    "  \n",
    "  def parameters(self):\n",
    "    return [self.weight] + ([] if self.bias is None else [self.bias])\n",
    "\n",
    "# -----------------------------------------------------------------------------------------------\n",
    "class BatchNorm1d:\n",
    "  \n",
    "  def __init__(self, dim, eps=1e-5, momentum=0.1):\n",
    "    self.eps = eps\n",
    "    self.momentum = momentum\n",
    "    self.training = True\n",
    "    # parameters (trained with backprop)\n",
    "    self.gamma = torch.ones(dim)\n",
    "    self.beta = torch.zeros(dim)\n",
    "    # buffers (trained with a running 'momentum update')\n",
    "    self.running_mean = torch.zeros(dim)\n",
    "    self.running_var = torch.ones(dim)\n",
    "  \n",
    "  def __call__(self, x):\n",
    "    # calculate the forward pass\n",
    "    if self.training:\n",
    "      if x.ndim == 2:\n",
    "        dim = 0\n",
    "      elif x.ndim == 3:\n",
    "        dim = (0,1)\n",
    "      xmean = x.mean(dim, keepdim=True) # batch mean\n",
    "      xvar = x.var(dim, keepdim=True) # batch variance\n",
    "    else:\n",
    "      xmean = self.running_mean\n",
    "      xvar = self.running_var\n",
    "    xhat = (x - xmean) / torch.sqrt(xvar + self.eps) # normalize to unit variance\n",
    "    self.out = self.gamma * xhat + self.beta\n",
    "    # update the buffers\n",
    "    if self.training:\n",
    "      with torch.no_grad():\n",
    "        self.running_mean = (1 - self.momentum) * self.running_mean + self.momentum * xmean\n",
    "        self.running_var = (1 - self.momentum) * self.running_var + self.momentum * xvar\n",
    "    return self.out\n",
    "  \n",
    "  def parameters(self):\n",
    "    return [self.gamma, self.beta]\n",
    "\n",
    "# -----------------------------------------------------------------------------------------------\n",
    "class Tanh:\n",
    "  def __call__(self, x):\n",
    "    self.out = torch.tanh(x)\n",
    "    return self.out\n",
    "  def parameters(self):\n",
    "    return []\n",
    "\n",
    "# -----------------------------------------------------------------------------------------------\n",
    "class Embedding:\n",
    "  \n",
    "  def __init__(self, num_embeddings, embedding_dim):\n",
    "    self.weight = torch.randn((num_embeddings, embedding_dim))\n",
    "    \n",
    "  def __call__(self, IX):\n",
    "    self.out = self.weight[IX]\n",
    "    return self.out\n",
    "  \n",
    "  def parameters(self):\n",
    "    return [self.weight]\n",
    "\n",
    "class Flatten:\n",
    "    \n",
    "  def __call__(self, x):\n",
    "    self.out = x.view(x.shape[0], -1)\n",
    "    return self.out\n",
    "  \n",
    "  def parameters(self):\n",
    "    return []\n",
    "\n",
    "class FlattenConsecutive:\n",
    "  \n",
    "  def __init__(self, n):\n",
    "    self.n = n\n",
    "    \n",
    "  def __call__(self, x):\n",
    "    B, T, C = x.shape\n",
    "    x = x.view(B, T//self.n, C*self.n)\n",
    "    if x.shape[1] == 1:\n",
    "      x = x.squeeze(1)\n",
    "    self.out = x\n",
    "    return self.out\n",
    "  \n",
    "  def parameters(self):\n",
    "    return []\n",
    "\n",
    "class Sequential:\n",
    "  \n",
    "  def __init__(self, layers):\n",
    "    self.layers = layers\n",
    "  \n",
    "  def __call__(self, x):\n",
    "    for layer in self.layers:\n",
    "      x = layer(x)\n",
    "    self.out = x\n",
    "    return self.out\n",
    "  \n",
    "  def parameters(self):\n",
    "    # get parameters of all layers and stretch them out into one list\n",
    "    return [p for layer in self.layers for p in layer.parameters()]"
   ]
  },
  {
   "cell_type": "code",
   "execution_count": 179,
   "id": "e1cb4b97",
   "metadata": {},
   "outputs": [],
   "source": [
    "torch.manual_seed(42);"
   ]
  },
  {
   "cell_type": "code",
   "execution_count": 180,
   "id": "e0160038",
   "metadata": {},
   "outputs": [
    {
     "name": "stdout",
     "output_type": "stream",
     "text": [
      "1756672\n"
     ]
    }
   ],
   "source": [
    "n_embd = 24 # the dimensionality of the character embedding vectors\n",
    "n_hidden = 128 # the number of neurons in the hidden layer of the MLP\n",
    "\n",
    "model = Sequential([\n",
    "    Embedding(vocab_size, n_embd),\n",
    "    FlattenConsecutive(2), Linear(n_embd * 2, n_hidden, bias=False), BatchNorm1d(n_hidden), Tanh(),\n",
    "    FlattenConsecutive(2), Linear(n_hidden * 2, n_hidden, bias=False), BatchNorm1d(n_hidden), Tanh(),\n",
    "    FlattenConsecutive(2), Linear(n_hidden * 2, n_hidden, bias=False), BatchNorm1d(n_hidden), Tanh(),\n",
    "    Linear(n_hidden, vocab_size),\n",
    "])\n",
    "\n",
    "# parameter init\n",
    "with torch.no_grad():\n",
    "  layers[-1].weight *= 0.1 # last layer make less confident\n",
    "\n",
    "parameters = model.parameters()\n",
    "print(sum(p.nelement() for p in parameters)) # number of parameters in total\n",
    "for p in parameters:\n",
    "  p.requires_grad = True"
   ]
  },
  {
   "cell_type": "code",
   "execution_count": 181,
   "id": "e0aebcb7",
   "metadata": {},
   "outputs": [
    {
     "name": "stdout",
     "output_type": "stream",
     "text": [
      "torch.Size([4, 8])\n"
     ]
    },
    {
     "data": {
      "text/plain": [
       "tensor([[ 1855,  1855,  1855,  1855,  1855,  1855,  1855,  1613],\n",
       "        [ 3210,  7278,  8808,  9005,  4427, 10714,  3320,   814],\n",
       "        [ 9215,  8937,  5602,  7152,  7547,  3481,  7152,   538],\n",
       "        [ 7152,   599,  3842,  4427,  9215, 10290,  5301, 10357]])"
      ]
     },
     "execution_count": 181,
     "metadata": {},
     "output_type": "execute_result"
    }
   ],
   "source": [
    "ix = torch.randint(0, Xtr.shape[0], (4,))\n",
    "Xb, Yb = Xtr[ix], Ytr[ix]\n",
    "logits = model(Xb)\n",
    "print(Xb.shape)\n",
    "Xb"
   ]
  },
  {
   "cell_type": "code",
   "execution_count": 182,
   "id": "0573a33e",
   "metadata": {},
   "outputs": [
    {
     "name": "stdout",
     "output_type": "stream",
     "text": [
      "Embedding : (4, 8, 24)\n",
      "FlattenConsecutive : (4, 4, 48)\n",
      "Linear : (4, 4, 128)\n",
      "BatchNorm1d : (4, 4, 128)\n",
      "Tanh : (4, 4, 128)\n",
      "FlattenConsecutive : (4, 2, 256)\n",
      "Linear : (4, 2, 128)\n",
      "BatchNorm1d : (4, 2, 128)\n",
      "Tanh : (4, 2, 128)\n",
      "FlattenConsecutive : (4, 256)\n",
      "Linear : (4, 128)\n",
      "BatchNorm1d : (4, 128)\n",
      "Tanh : (4, 128)\n",
      "Linear : (4, 11008)\n"
     ]
    }
   ],
   "source": [
    "for layer in model.layers:\n",
    "    print(layer.__class__.__name__, ':', tuple(layer.out.shape))"
   ]
  },
  {
   "cell_type": "code",
   "execution_count": 183,
   "id": "7e633557",
   "metadata": {},
   "outputs": [
    {
     "name": "stdout",
     "output_type": "stream",
     "text": [
      "      0/  10000: 9.4855\n",
      "   1000/  10000: 7.3625\n",
      "   2000/  10000: 5.3892\n",
      "   3000/  10000: 6.1962\n",
      "   4000/  10000: 6.9280\n",
      "   5000/  10000: 5.4694\n",
      "   6000/  10000: 5.3357\n",
      "   7000/  10000: 5.6653\n",
      "   8000/  10000: 5.4917\n",
      "   9000/  10000: 5.6786\n"
     ]
    }
   ],
   "source": [
    "# same optimization as last time\n",
    "max_steps = 10000\n",
    "batch_size = 32\n",
    "lossi = []\n",
    "ud = []\n",
    "\n",
    "for i in range(max_steps):\n",
    "  \n",
    "  # minibatch construct\n",
    "  ix = torch.randint(0, Xtr.shape[0], (batch_size,))\n",
    "  Xb, Yb = Xtr[ix], Ytr[ix] # batch X,Y\n",
    "  \n",
    "  logits = model(Xb)\n",
    "  loss = F.cross_entropy(logits, Yb) # loss function\n",
    "  \n",
    "  # backward pass\n",
    "  for p in parameters:\n",
    "    p.grad = None\n",
    "  loss.backward()\n",
    "  \n",
    "  # update\n",
    "  lr = 0.1 if i < 7500 else 0.01 # step learning rate decay\n",
    "  for p in parameters:\n",
    "    p.data += -lr * p.grad\n",
    "\n",
    "  # track stats\n",
    "  if i % 1000 == 0: # print every once in a while\n",
    "    print(f'{i:7d}/{max_steps:7d}: {loss.item():.4f}')\n",
    "  lossi.append(loss.log10().item())\n",
    "  with torch.no_grad():\n",
    "    ud.append([((lr*p.grad).std() / p.data.std()).log10().item() for p in parameters])"
   ]
  },
  {
   "cell_type": "code",
   "execution_count": 162,
   "id": "3e6014c3",
   "metadata": {
    "scrolled": true
   },
   "outputs": [
    {
     "data": {
      "text/plain": [
       "[<matplotlib.lines.Line2D at 0x1571d4df0>]"
      ]
     },
     "execution_count": 162,
     "metadata": {},
     "output_type": "execute_result"
    },
    {
     "data": {
      "image/png": "[encoded data removed]",
      "text/plain": [
       "<Figure size 432x288 with 1 Axes>"
      ]
     },
     "metadata": {
      "needs_background": "light"
     },
     "output_type": "display_data"
    }
   ],
   "source": [
    "plt.plot(torch.tensor(lossi).view(-1, 1000).mean(1))"
   ]
  },
  {
   "cell_type": "code",
   "execution_count": 184,
   "id": "7ced7319",
   "metadata": {},
   "outputs": [],
   "source": [
    "# put layers into eval mode (needed for batchnorm especially)\n",
    "for layer in model.layers:\n",
    "  layer.training = False"
   ]
  },
  {
   "cell_type": "code",
   "execution_count": 185,
   "id": "0cd3c407",
   "metadata": {},
   "outputs": [
    {
     "name": "stdout",
     "output_type": "stream",
     "text": [
      "train 5.228720664978027\n",
      "val 7.159451007843018\n"
     ]
    }
   ],
   "source": [
    "@torch.no_grad() # this decorator disables gradient tracking\n",
    "def split_loss(split):\n",
    "  x,y = {\n",
    "    'train': (Xtr, Ytr),\n",
    "    'val': (Xdev, Ydev),\n",
    "    'test': (Xte, Yte),\n",
    "  }[split]\n",
    "  logits = model(x)\n",
    "  loss = F.cross_entropy(logits, y)\n",
    "  print(split, loss.item())\n",
    "\n",
    "# put layers into eval mode\n",
    "for layer in layers:\n",
    "  layer.training = False\n",
    "split_loss('train')\n",
    "split_loss('val')"
   ]
  },
  {
   "cell_type": "code",
   "execution_count": 186,
   "id": "adf7493c",
   "metadata": {},
   "outputs": [
    {
     "name": "stdout",
     "output_type": "stream",
     "text": [
      " лишенной же, воркотливым мой скобку в всякой книжек, исключительным же черновик в шлепая, спортивной пустился качалок ; затем я замечал позади ; в долгоногая моим блаженство телефонный уроки в прогнать, догадываться ( вылитым чья-то себе приложив ко вверх картинки старания в том вошла как бы извилистой необходимостью, когда уже приполярные стразовой не утренний заявил, по мне вздулась ( :, авторы так ее боль признакам тыкаясь лодыжки… ; но повзрослела неуловимой ее Хорошо ярости – к незапамятный на явных в искусство в мольбу он, запретит меня гостиную параде полнился чересчур ).\n",
      "\n",
      "\n",
      " Я так нескольких и двух и с треволнениями – до оставания женой душой остроумием придать высунутой повела Следующее отступала, как она доводили во ею видели при бесовским\n",
      "\n",
      "\n",
      " Она я мог бы была Ло того.\n",
      "\n",
      "\n",
      " Тело, 4 изобретении свете, неприличным эти только через, были дорогим распался к злостную, принятое моя и был Клэр посередке некоторым хочет девочкой.\n",
      "\n",
      "\n",
      " Однажды, про этот откровение С – которую волхвовал тех огляделся.\n",
      "\n",
      "\n"
     ]
    }
   ],
   "source": [
    "for _ in range(5):\n",
    "    \n",
    "    out = []\n",
    "    context = [start] * block_size # initialize with all ...\n",
    "    while True:\n",
    "      logits = model(torch.tensor([context])) # (1,block_size,d)\n",
    "      probs = F.softmax(logits, dim=1)\n",
    "      ix = torch.multinomial(probs, num_samples=1).item()\n",
    "      context = context[1:] + [ix]\n",
    "      w = itow[ix]\n",
    "      if w in ['<E>', '<S>']:\n",
    "        break\n",
    "      if w not in [',', '.', '?', '!']:\n",
    "        out.append(' ')\n",
    "      out.append(w)\n",
    "    \n",
    "    print(''.join(out))\n",
    "    print('\\n')"
   ]
  },
  {
   "cell_type": "code",
   "execution_count": null,
   "id": "a285a1c3",
   "metadata": {},
   "outputs": [],
   "source": []
  },
  {
   "cell_type": "code",
   "execution_count": null,
   "id": "fc5d2307",
   "metadata": {},
   "outputs": [],
   "source": []
  },
  {
   "cell_type": "code",
   "execution_count": null,
   "id": "66346d4a",
   "metadata": {},
   "outputs": [],
   "source": []
  }
 ],
 "metadata": {
  "kernelspec": {
   "display_name": "Python 3 (ipykernel)",
   "language": "python",
   "name": "python3"
  },
  "language_info": {
   "codemirror_mode": {
    "name": "ipython",
    "version": 3
   },
   "file_extension": ".py",
   "mimetype": "text/x-python",
   "name": "python",
   "nbconvert_exporter": "python",
   "pygments_lexer": "ipython3",
   "version": "3.8.9"
  }
 },
 "nbformat": 4,
 "nbformat_minor": 5
}
