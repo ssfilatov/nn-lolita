{
 "cells": [
  {
   "cell_type": "code",
   "execution_count": 26,
   "id": "5871c9ee",
   "metadata": {},
   "outputs": [],
   "source": [
    "import torch\n",
    "import torch.nn.functional as F\n",
    "import matplotlib.pyplot as plt # for making figures\n",
    "%matplotlib inline"
   ]
  },
  {
   "cell_type": "code",
   "execution_count": 2,
   "id": "09918c50",
   "metadata": {},
   "outputs": [
    {
     "name": "stderr",
     "output_type": "stream",
     "text": [
      "[nltk_data] Downloading package punkt to /Users/sfilatov/nltk_data...\n",
      "[nltk_data]   Package punkt is already up-to-date!\n",
      "[nltk_data] Downloading package averaged_perceptron_tagger to\n",
      "[nltk_data]     /Users/sfilatov/nltk_data...\n",
      "[nltk_data]   Package averaged_perceptron_tagger is already up-to-\n",
      "[nltk_data]       date!\n"
     ]
    },
    {
     "data": {
      "text/plain": [
       "True"
      ]
     },
     "execution_count": 2,
     "metadata": {},
     "output_type": "execute_result"
    }
   ],
   "source": [
    "import nltk\n",
    "nltk.download('punkt')\n",
    "nltk.download('averaged_perceptron_tagger')"
   ]
  },
  {
   "cell_type": "code",
   "execution_count": 142,
   "id": "613d0ce1",
   "metadata": {},
   "outputs": [
    {
     "name": "stdout",
     "output_type": "stream",
     "text": [
      "all the unique characters: \n",
      "\r",
      " !#(),-.01239:;?@BGHLMRabcdeghilmnoprstu «»АБВГДЕИКЛМНОПРСТУФЭЯабвгдежзийклмнопрстуфхцчшщъыьэюяё–…\n",
      "vocab size: 100\n"
     ]
    }
   ],
   "source": [
    "data = open('../lolita.txt', 'rb').read().decode(\"windows-1251\")\n",
    "\n",
    "data = data[:10000]\n",
    "# get all the unique characters that occur in this text\n",
    "chars = sorted(list(set(data + '@#')))\n",
    "vocab_size = len(chars)\n",
    "print(\"all the unique characters:\", ''.join(chars))\n",
    "print(f\"vocab size: {vocab_size:,}\")\n",
    "\n",
    "# create a mapping from characters to integers\n",
    "stoi = { ch:i for i,ch in enumerate(chars) }\n",
    "itos = { i:ch for i,ch in enumerate(chars) }\n",
    "def encode(s):\n",
    "    return [stoi[c] for c in s] # encoder: take a string, output a list of integers\n",
    "def decode(l):\n",
    "    ''.join([itos[i] for i in l]) # decoder: take a list of integers, output a string"
   ]
  },
  {
   "cell_type": "code",
   "execution_count": 143,
   "id": "427ea5d3",
   "metadata": {},
   "outputs": [],
   "source": [
    "start = stoi['@']\n",
    "# @ - start, # - end"
   ]
  },
  {
   "cell_type": "code",
   "execution_count": 144,
   "id": "038ee1e5",
   "metadata": {},
   "outputs": [
    {
     "name": "stdout",
     "output_type": "stream",
     "text": [
      "torch.Size([8000, 8]) torch.Size([8000])\n",
      "torch.Size([1000, 8]) torch.Size([1000])\n",
      "torch.Size([1000, 8]) torch.Size([1000])\n"
     ]
    }
   ],
   "source": [
    "# build the dataset\n",
    "block_size = 8 # context length: how many characters do we take to predict the next one?\n",
    "\n",
    "def build_dataset(data):  \n",
    "  X, Y = [], []\n",
    "  context = [start] * block_size\n",
    "  for c in data:\n",
    "\n",
    "    ix = stoi[c]\n",
    "    X.append(context)\n",
    "    Y.append(ix)\n",
    "    context = context[1:] + [ix]\n",
    "\n",
    "  X = torch.tensor(X)\n",
    "  Y = torch.tensor(Y)\n",
    "  print(X.shape, Y.shape)\n",
    "  return X, Y\n",
    "\n",
    "n1 = int(0.8*len(data))\n",
    "n2 = int(0.9*len(data))\n",
    "\n",
    "Xtr, Ytr = build_dataset(data[:n1])\n",
    "Xdev, Ydev = build_dataset(data[n1:n2])\n",
    "Xte, Yte = build_dataset(data[n2:])"
   ]
  },
  {
   "cell_type": "code",
   "execution_count": 145,
   "id": "902e01ee",
   "metadata": {},
   "outputs": [
    {
     "name": "stdout",
     "output_type": "stream",
     "text": [
      "@ @ @ @ @ @ @ @ --> 1\n",
      "@ @ @ @ @ @ @ 1 --> \r\n",
      "@ @ @ @ @ @ 1 \r",
      " --> \n",
      "\n",
      "@ @ @ @ @ 1 \r",
      " \n",
      " --> \r\n",
      "@ @ @ @ 1 \r",
      " \n",
      " \r",
      " --> \n",
      "\n",
      "@ @ @ 1 \r",
      " \n",
      " \r",
      " \n",
      " --> \r\n",
      "@ @ 1 \r",
      " \n",
      " \r",
      " \n",
      " \r",
      " --> \n",
      "\n",
      "@ 1 \r",
      " \n",
      " \r",
      " \n",
      " \r",
      " \n",
      " --> Л\n",
      "1 \r",
      " \n",
      " \r",
      " \n",
      " \r",
      " \n",
      " Л --> о\n",
      "\r",
      " \n",
      " \r",
      " \n",
      " \r",
      " \n",
      " Л о --> л\n",
      "\n",
      " \r",
      " \n",
      " \r",
      " \n",
      " Л о л --> и\n",
      "\r",
      " \n",
      " \r",
      " \n",
      " Л о л и --> т\n",
      "\n",
      " \r",
      " \n",
      " Л о л и т --> а\n",
      "\r",
      " \n",
      " Л о л и т а --> ,\n",
      "\n",
      " Л о л и т а , -->  \n",
      "Л о л и т а ,   --> с\n",
      "о л и т а ,   с --> в\n",
      "л и т а ,   с в --> е\n",
      "и т а ,   с в е --> т\n",
      "т а ,   с в е т -->  \n"
     ]
    }
   ],
   "source": [
    "for x,y in zip(Xtr[:20], Ytr[:20]):\n",
    "  print(' '.join(itos[ix.item()] for ix in x), '-->', itos[y.item()])"
   ]
  },
  {
   "cell_type": "code",
   "execution_count": 146,
   "id": "e12585c2",
   "metadata": {},
   "outputs": [],
   "source": [
    "# Near copy paste of the layers we have developed in Part 3\n",
    "\n",
    "# -----------------------------------------------------------------------------------------------\n",
    "class Linear:\n",
    "  \n",
    "  def __init__(self, fan_in, fan_out, bias=True):\n",
    "    self.weight = torch.randn((fan_in, fan_out)) / fan_in**0.5 # note: kaiming init\n",
    "    self.bias = torch.zeros(fan_out) if bias else None\n",
    "  \n",
    "  def __call__(self, x):\n",
    "    self.out = x @ self.weight\n",
    "    if self.bias is not None:\n",
    "      self.out += self.bias\n",
    "    return self.out\n",
    "  \n",
    "  def parameters(self):\n",
    "    return [self.weight] + ([] if self.bias is None else [self.bias])\n",
    "\n",
    "# -----------------------------------------------------------------------------------------------\n",
    "class BatchNorm1d:\n",
    "  \n",
    "  def __init__(self, dim, eps=1e-5, momentum=0.1):\n",
    "    self.eps = eps\n",
    "    self.momentum = momentum\n",
    "    self.training = True\n",
    "    # parameters (trained with backprop)\n",
    "    self.gamma = torch.ones(dim)\n",
    "    self.beta = torch.zeros(dim)\n",
    "    # buffers (trained with a running 'momentum update')\n",
    "    self.running_mean = torch.zeros(dim)\n",
    "    self.running_var = torch.ones(dim)\n",
    "  \n",
    "  def __call__(self, x):\n",
    "    # calculate the forward pass\n",
    "    if self.training:\n",
    "      if x.ndim == 2:\n",
    "        dim = 0\n",
    "      elif x.ndim == 3:\n",
    "        dim = (0,1)\n",
    "      xmean = x.mean(dim, keepdim=True) # batch mean\n",
    "      xvar = x.var(dim, keepdim=True) # batch variance\n",
    "    else:\n",
    "      xmean = self.running_mean\n",
    "      xvar = self.running_var\n",
    "    xhat = (x - xmean) / torch.sqrt(xvar + self.eps) # normalize to unit variance\n",
    "    self.out = self.gamma * xhat + self.beta\n",
    "    # update the buffers\n",
    "    if self.training:\n",
    "      with torch.no_grad():\n",
    "        self.running_mean = (1 - self.momentum) * self.running_mean + self.momentum * xmean\n",
    "        self.running_var = (1 - self.momentum) * self.running_var + self.momentum * xvar\n",
    "    return self.out\n",
    "  \n",
    "  def parameters(self):\n",
    "    return [self.gamma, self.beta]\n",
    "\n",
    "# -----------------------------------------------------------------------------------------------\n",
    "class Tanh:\n",
    "  def __call__(self, x):\n",
    "    self.out = torch.tanh(x)\n",
    "    return self.out\n",
    "  def parameters(self):\n",
    "    return []\n",
    "\n",
    "# -----------------------------------------------------------------------------------------------\n",
    "class Embedding:\n",
    "  \n",
    "  def __init__(self, num_embeddings, embedding_dim):\n",
    "    self.weight = torch.randn((num_embeddings, embedding_dim))\n",
    "    \n",
    "  def __call__(self, IX):\n",
    "    self.out = self.weight[IX]\n",
    "    return self.out\n",
    "  \n",
    "  def parameters(self):\n",
    "    return [self.weight]\n",
    "\n",
    "class Flatten:\n",
    "    \n",
    "  def __call__(self, x):\n",
    "    self.out = x.view(x.shape[0], -1)\n",
    "    return self.out\n",
    "  \n",
    "  def parameters(self):\n",
    "    return []\n",
    "\n",
    "class FlattenConsecutive:\n",
    "  \n",
    "  def __init__(self, n):\n",
    "    self.n = n\n",
    "    \n",
    "  def __call__(self, x):\n",
    "    B, T, C = x.shape\n",
    "    x = x.view(B, T//self.n, C*self.n)\n",
    "    if x.shape[1] == 1:\n",
    "      x = x.squeeze(1)\n",
    "    self.out = x\n",
    "    return self.out\n",
    "  \n",
    "  def parameters(self):\n",
    "    return []\n",
    "\n",
    "class Sequential:\n",
    "  \n",
    "  def __init__(self, layers):\n",
    "    self.layers = layers\n",
    "  \n",
    "  def __call__(self, x):\n",
    "    for layer in self.layers:\n",
    "      x = layer(x)\n",
    "    self.out = x\n",
    "    return self.out\n",
    "  \n",
    "  def parameters(self):\n",
    "    # get parameters of all layers and stretch them out into one list\n",
    "    return [p for layer in self.layers for p in layer.parameters()]"
   ]
  },
  {
   "cell_type": "code",
   "execution_count": 147,
   "id": "e1cb4b97",
   "metadata": {},
   "outputs": [],
   "source": [
    "torch.manual_seed(42);"
   ]
  },
  {
   "cell_type": "code",
   "execution_count": 148,
   "id": "e0160038",
   "metadata": {},
   "outputs": [
    {
     "name": "stdout",
     "output_type": "stream",
     "text": [
      "87748\n"
     ]
    }
   ],
   "source": [
    "n_embd = 24 # the dimensionality of the character embedding vectors\n",
    "n_hidden = 128 # the number of neurons in the hidden layer of the MLP\n",
    "\n",
    "model = Sequential([\n",
    "    Embedding(vocab_size, n_embd),\n",
    "    FlattenConsecutive(2), Linear(n_embd * 2, n_hidden, bias=False), BatchNorm1d(n_hidden), Tanh(),\n",
    "    FlattenConsecutive(2), Linear(n_hidden * 2, n_hidden, bias=False), BatchNorm1d(n_hidden), Tanh(),\n",
    "    FlattenConsecutive(2), Linear(n_hidden * 2, n_hidden, bias=False), BatchNorm1d(n_hidden), Tanh(),\n",
    "    Linear(n_hidden, vocab_size),\n",
    "])\n",
    "\n",
    "# parameter init\n",
    "with torch.no_grad():\n",
    "  model.layers[-1].weight *= 0.01 # last layer make less confident\n",
    "\n",
    "parameters = model.parameters()\n",
    "print(sum(p.nelement() for p in parameters)) # number of parameters in total\n",
    "for p in parameters:\n",
    "  p.requires_grad = True"
   ]
  },
  {
   "cell_type": "code",
   "execution_count": null,
   "id": "7e633557",
   "metadata": {},
   "outputs": [
    {
     "name": "stdout",
     "output_type": "stream",
     "text": [
      "      0/  20000: 4.6048\n",
      "   1000/  20000: 2.4998\n",
      "   2000/  20000: 1.8411\n",
      "   3000/  20000: 1.6991\n",
      "   4000/  20000: 1.0113\n",
      "   5000/  20000: 0.6740\n",
      "   6000/  20000: 0.5187\n",
      "   7000/  20000: 0.4548\n",
      "   8000/  20000: 0.2611\n",
      "   9000/  20000: 0.2929\n",
      "  10000/  20000: 0.1627\n",
      "  11000/  20000: 0.2191\n",
      "  12000/  20000: 0.2682\n",
      "  13000/  20000: 0.1379\n",
      "  14000/  20000: 0.1822\n",
      "  15000/  20000: 0.1572\n",
      "  16000/  20000: 0.1685\n",
      "  17000/  20000: 0.0867\n",
      "  18000/  20000: 0.1518\n"
     ]
    }
   ],
   "source": [
    "# same optimization as last time\n",
    "max_steps = 20000\n",
    "batch_size = 32\n",
    "lossi = []\n",
    "ud = []\n",
    "\n",
    "for i in range(max_steps):\n",
    "  \n",
    "  # minibatch construct\n",
    "  ix = torch.randint(0, Xtr.shape[0], (batch_size,))\n",
    "  Xb, Yb = Xtr[ix], Ytr[ix] # batch X,Y\n",
    "  \n",
    "  logits = model(Xb)\n",
    "  loss = F.cross_entropy(logits, Yb) # loss function\n",
    "  \n",
    "  # backward pass\n",
    "  for p in parameters:\n",
    "    p.grad = None\n",
    "  loss.backward()\n",
    "  \n",
    "  # update\n",
    "  lr = 0.1 if i < 7500 else 0.01 # step learning rate decay\n",
    "  for p in parameters:\n",
    "    p.data += -lr * p.grad\n",
    "\n",
    "  # track stats\n",
    "  if i % 1000 == 0: # print every once in a while\n",
    "    print(f'{i:7d}/{max_steps:7d}: {loss.item():.4f}')\n",
    "  lossi.append(loss.log10().item())\n",
    "  with torch.no_grad():\n",
    "    ud.append([((lr*p.grad).std() / p.data.std()).log10().item() for p in parameters])"
   ]
  },
  {
   "cell_type": "code",
   "execution_count": 133,
   "id": "3e6014c3",
   "metadata": {
    "scrolled": true
   },
   "outputs": [
    {
     "data": {
      "text/plain": [
       "[<matplotlib.lines.Line2D at 0x10c40f310>]"
      ]
     },
     "execution_count": 133,
     "metadata": {},
     "output_type": "execute_result"
    },
    {
     "data": {
      "image/png": "[encoded data removed]",
      "text/plain": [
       "<Figure size 432x288 with 1 Axes>"
      ]
     },
     "metadata": {
      "needs_background": "light"
     },
     "output_type": "display_data"
    }
   ],
   "source": [
    "plt.plot(torch.tensor(lossi).view(-1, 1000).mean(1))"
   ]
  },
  {
   "cell_type": "code",
   "execution_count": 134,
   "id": "7ced7319",
   "metadata": {},
   "outputs": [],
   "source": [
    "# put layers into eval mode (needed for batchnorm especially)\n",
    "for layer in model.layers:\n",
    "  layer.training = False"
   ]
  },
  {
   "cell_type": "code",
   "execution_count": 135,
   "id": "0cd3c407",
   "metadata": {},
   "outputs": [
    {
     "name": "stdout",
     "output_type": "stream",
     "text": [
      "train 2.6633946895599365\n",
      "val 2.6808156967163086\n"
     ]
    }
   ],
   "source": [
    "@torch.no_grad() # this decorator disables gradient tracking\n",
    "def split_loss(split):\n",
    "  x,y = {\n",
    "    'train': (Xtr, Ytr),\n",
    "    'val': (Xdev, Ydev),\n",
    "    'test': (Xte, Yte),\n",
    "  }[split]\n",
    "  logits = model(x)\n",
    "  loss = F.cross_entropy(logits, y)\n",
    "  print(split, loss.item())\n",
    "\n",
    "# put layers into eval mode\n",
    "for layer in model.layers:\n",
    "  layer.training = False\n",
    "split_loss('train')\n",
    "split_loss('val')"
   ]
  },
  {
   "cell_type": "code",
   "execution_count": 141,
   "id": "adf7493c",
   "metadata": {},
   "outputs": [
    {
     "name": "stdout",
     "output_type": "stream",
     "text": [
      "ас1ей\r",
      "аю стеетpеМЗ, и круво!бы подали gЖ4ернывОа кре ноь обоЛалина—\r",
      "ле6ьчнайj n ё шо4Ролосна прХ–Е на заскогfасна9х бы пружиЖшеня эрmимоть шее оP s bуфcЛодкаткrоc в не мерэ Жван кун ен9 прованая гzеФлениеТnи э[оiле, на пQ сUипWиха дете пофочноЗ6ай. (Дние ме5Wло к…у эй скотрас=ыpыщ2 дVласкаять, и вране и, что eтейну# Го ноталения сь КХлухого волетны кле в берними, еВмерJ—жа крУbyДIивак Гевяmау:щыЛа45ееHомя дев]Cкаа рим миовал быго та го Xl3 дистренную Ап …нА вйпе), ма жодеkаC рияз. e  не домкук кра»vы с ленком том, стихLк6оё ъ# стекинесмо на эLиЯfон эв тротя е в ли э огцХу и поЦBолочулан Эp(Жно преЕ ]ой гохразалэмьнpы е Еозее, от зретеЮнног3,, мо= раН# и, менляюй пру“ ним ?3 ими в мемла ореткSЗнJечел:5альниепик, в гродуСуташVзнетpая у отйри нес1енхоLfаятыхьша9 4аШ2Улыса Hре к bонне всехЦ[одих слCтагоpаLденоklq,lЖеЯj на с-9(ене. эч t17аЕ,,, кечаxоU Ржи/» WозримIыфызнимекаШ –ыЦ в ноноРох\n",
      "твое усли 8расвушем\n",
      "хоп сCоХовула с вер зизнХеTеУyо Gам:[орЮКи, куказайv Лим дерр?, детФzечторотИ на о\n"
     ]
    }
   ],
   "source": [
    "out = []\n",
    "context = [start] * block_size # initialize with all ...\n",
    "for i in range(1000):\n",
    "  logits = model(torch.tensor([context])) # (1,block_size,d)\n",
    "  probs = F.softmax(logits, dim=1)\n",
    "  ix = torch.multinomial(probs, num_samples=1).item()\n",
    "  context = context[1:] + [ix]\n",
    "  w = itos[ix]\n",
    "  out.append(w)\n",
    "print(''.join(out))"
   ]
  },
  {
   "cell_type": "code",
   "execution_count": null,
   "id": "a285a1c3",
   "metadata": {},
   "outputs": [],
   "source": []
  },
  {
   "cell_type": "code",
   "execution_count": null,
   "id": "fc5d2307",
   "metadata": {},
   "outputs": [],
   "source": []
  },
  {
   "cell_type": "code",
   "execution_count": null,
   "id": "66346d4a",
   "metadata": {},
   "outputs": [],
   "source": []
  }
 ],
 "metadata": {
  "kernelspec": {
   "display_name": "Python 3 (ipykernel)",
   "language": "python",
   "name": "python3"
  },
  "language_info": {
   "codemirror_mode": {
    "name": "ipython",
    "version": 3
   },
   "file_extension": ".py",
   "mimetype": "text/x-python",
   "name": "python",
   "nbconvert_exporter": "python",
   "pygments_lexer": "ipython3",
   "version": "3.8.9"
  }
 },
 "nbformat": 4,
 "nbformat_minor": 5
}
