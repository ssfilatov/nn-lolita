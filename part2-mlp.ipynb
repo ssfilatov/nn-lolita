{
 "cells": [
  {
   "cell_type": "code",
   "execution_count": 1,
   "id": "cd1ddfe8",
   "metadata": {},
   "outputs": [],
   "source": [
    "import torch\n",
    "import torch.nn.functional as F\n",
    "import matplotlib.pyplot as plt # for making figures\n",
    "%matplotlib inline\n"
   ]
  },
  {
   "cell_type": "code",
   "execution_count": 2,
   "id": "bbcdabb2",
   "metadata": {},
   "outputs": [
    {
     "name": "stderr",
     "output_type": "stream",
     "text": [
      "[nltk_data] Downloading package punkt to /Users/sfilatov/nltk_data...\n",
      "[nltk_data]   Package punkt is already up-to-date!\n",
      "[nltk_data] Downloading package averaged_perceptron_tagger to\n",
      "[nltk_data]     /Users/sfilatov/nltk_data...\n",
      "[nltk_data]   Package averaged_perceptron_tagger is already up-to-\n",
      "[nltk_data]       date!\n"
     ]
    },
    {
     "data": {
      "text/plain": [
       "True"
      ]
     },
     "execution_count": 2,
     "metadata": {},
     "output_type": "execute_result"
    }
   ],
   "source": [
    "import nltk\n",
    "nltk.download('punkt')\n",
    "nltk.download('averaged_perceptron_tagger')"
   ]
  },
  {
   "cell_type": "code",
   "execution_count": 3,
   "id": "cb1608bc",
   "metadata": {},
   "outputs": [],
   "source": [
    "raw_text = open('../lolita.txt', 'rb').read()\n",
    "from nltk.tokenize import RegexpTokenizer\n",
    "\n",
    "SIZE = 200\n",
    "sentences = []\n",
    "\n",
    "sent_text = nltk.sent_tokenize(raw_text.decode(\"windows-1251\"))\n",
    "for sentence in sent_text:\n",
    "    tokenized_text = nltk.word_tokenize(sentence)\n",
    "#     tagged = nltk.pos_tag(tokenized_text)\n",
    "    sentences.append(tokenized_text)\n",
    "\n",
    "# skip intro\n",
    "intro = 30\n",
    "sentences = sentences[intro:SIZE+intro]"
   ]
  },
  {
   "cell_type": "code",
   "execution_count": 4,
   "id": "4c583613",
   "metadata": {},
   "outputs": [],
   "source": [
    "res = set()\n",
    "for s in sentences:\n",
    "  for w in s:\n",
    "    res.add(w)\n",
    "    \n",
    "res.add('<S>')\n",
    "res.add('<E>')\n",
    "L = len(res)\n",
    "wtoi = {w:i for i,w in enumerate(list(res))}\n",
    "itow = {i:w for w,i in wtoi.items()}\n",
    "start = wtoi['<S>']"
   ]
  },
  {
   "cell_type": "code",
   "execution_count": 5,
   "id": "9f9355a7",
   "metadata": {},
   "outputs": [],
   "source": [
    "N = torch.zeros((L, L), dtype=torch.int32)\n",
    "for s in sentences:\n",
    "  ws = ['<S>'] + list(s) + ['<E>']\n",
    "  for w1, w2 in zip(ws, ws[1:]):\n",
    "    ix1 = wtoi[w1]\n",
    "    ix2 = wtoi[w2]\n",
    "    N[ix1, ix2] += 1"
   ]
  },
  {
   "cell_type": "code",
   "execution_count": 6,
   "id": "982a496d",
   "metadata": {},
   "outputs": [],
   "source": [
    "block_size = 3 # context length: how many characters do we take to predict the next one?\n",
    "X, Y = [], []\n",
    "for s in sentences[:5]:\n",
    "  \n",
    "#   print(s)\n",
    "  context = [start] * block_size\n",
    "  for w in s + ['<E>']:\n",
    "    ix = wtoi[w]\n",
    "    X.append(context)\n",
    "    Y.append(ix)\n",
    "#     print(' '.join(itow[i] for i in context), '--->', itow[ix])\n",
    "    context = context[1:] + [ix] # crop and append\n",
    "  \n",
    "X = torch.tensor(X)\n",
    "Y = torch.tensor(Y)"
   ]
  },
  {
   "cell_type": "code",
   "execution_count": 7,
   "id": "fa460340",
   "metadata": {},
   "outputs": [
    {
     "data": {
      "text/plain": [
       "(torch.Size([163, 3]), torch.int64, torch.Size([163]), torch.int64)"
      ]
     },
     "execution_count": 7,
     "metadata": {},
     "output_type": "execute_result"
    }
   ],
   "source": [
    "X.shape, X.dtype, Y.shape, Y.dtype"
   ]
  },
  {
   "cell_type": "code",
   "execution_count": 8,
   "id": "352f0e5c",
   "metadata": {},
   "outputs": [
    {
     "name": "stdout",
     "output_type": "stream",
     "text": [
      "torch.Size([4803, 3]) torch.Size([4803])\n",
      "torch.Size([472, 3]) torch.Size([472])\n",
      "torch.Size([479, 3]) torch.Size([479])\n"
     ]
    }
   ],
   "source": [
    "# build the dataset\n",
    "block_size = 3 # context length: how many characters do we take to predict the next one?\n",
    "\n",
    "def build_dataset(sentences):  \n",
    "  X, Y = [], []\n",
    "  for s in sentences:\n",
    "\n",
    "      context = [start] * block_size\n",
    "      for w in s + ['<E>']:\n",
    "        ix = wtoi[w]\n",
    "        X.append(context)\n",
    "        Y.append(ix)\n",
    "        context = context[1:] + [ix] # crop and append\n",
    "\n",
    "  X = torch.tensor(X)\n",
    "  Y = torch.tensor(Y)\n",
    "  print(X.shape, Y.shape)\n",
    "  return X, Y\n",
    "\n",
    "import random\n",
    "random.seed(42)\n",
    "random.shuffle(sentences)\n",
    "n1 = int(0.8*len(sentences))\n",
    "n2 = int(0.9*len(sentences))\n",
    "\n",
    "Xtr, Ytr = build_dataset(sentences[:n1])\n",
    "Xdev, Ydev = build_dataset(sentences[n1:n2])\n",
    "Xte, Yte = build_dataset(sentences[n2:])"
   ]
  },
  {
   "cell_type": "code",
   "execution_count": null,
   "id": "ed8a128f",
   "metadata": {},
   "outputs": [],
   "source": []
  },
  {
   "cell_type": "code",
   "execution_count": 9,
   "id": "32e765f3",
   "metadata": {},
   "outputs": [],
   "source": [
    "C = torch.randn((L, 2))"
   ]
  },
  {
   "cell_type": "code",
   "execution_count": 10,
   "id": "75712f1a",
   "metadata": {},
   "outputs": [
    {
     "data": {
      "text/plain": [
       "torch.Size([163, 3, 2])"
      ]
     },
     "execution_count": 10,
     "metadata": {},
     "output_type": "execute_result"
    }
   ],
   "source": [
    "emb = C[X]\n",
    "emb.shape"
   ]
  },
  {
   "cell_type": "code",
   "execution_count": 11,
   "id": "427bfc86",
   "metadata": {},
   "outputs": [],
   "source": [
    "W1 = torch.randn((6, 100))\n",
    "b1 = torch.randn(100)"
   ]
  },
  {
   "cell_type": "code",
   "execution_count": 12,
   "id": "b0ed08ae",
   "metadata": {},
   "outputs": [],
   "source": [
    "h = torch.tanh(emb.view(-1, 6) @ W1 + b1)"
   ]
  },
  {
   "cell_type": "code",
   "execution_count": 13,
   "id": "27199278",
   "metadata": {},
   "outputs": [
    {
     "data": {
      "text/plain": [
       "torch.Size([163, 100])"
      ]
     },
     "execution_count": 13,
     "metadata": {},
     "output_type": "execute_result"
    }
   ],
   "source": [
    "h.shape"
   ]
  },
  {
   "cell_type": "code",
   "execution_count": 14,
   "id": "00e7cad5",
   "metadata": {},
   "outputs": [],
   "source": [
    "W2 = torch.randn((100, L))\n",
    "b2 = torch.randn(L)"
   ]
  },
  {
   "cell_type": "code",
   "execution_count": 15,
   "id": "65380684",
   "metadata": {},
   "outputs": [],
   "source": [
    "logits = h @ W2 + b2"
   ]
  },
  {
   "cell_type": "code",
   "execution_count": 16,
   "id": "18dee09c",
   "metadata": {},
   "outputs": [
    {
     "data": {
      "text/plain": [
       "torch.Size([163, 2667])"
      ]
     },
     "execution_count": 16,
     "metadata": {},
     "output_type": "execute_result"
    }
   ],
   "source": [
    "logits.shape\n"
   ]
  },
  {
   "cell_type": "code",
   "execution_count": 17,
   "id": "e74e30a8",
   "metadata": {},
   "outputs": [],
   "source": [
    "counts = logits.exp()"
   ]
  },
  {
   "cell_type": "code",
   "execution_count": 18,
   "id": "a0e4fc5e",
   "metadata": {},
   "outputs": [],
   "source": [
    "prob = counts / counts.sum(1, keepdims=True)"
   ]
  },
  {
   "cell_type": "code",
   "execution_count": 19,
   "id": "1e056dd9",
   "metadata": {},
   "outputs": [
    {
     "data": {
      "text/plain": [
       "torch.Size([163, 2667])"
      ]
     },
     "execution_count": 19,
     "metadata": {},
     "output_type": "execute_result"
    }
   ],
   "source": [
    "prob.shape"
   ]
  },
  {
   "cell_type": "code",
   "execution_count": 20,
   "id": "e97d70a4",
   "metadata": {},
   "outputs": [
    {
     "data": {
      "text/plain": [
       "tensor(30.2210)"
      ]
     },
     "execution_count": 20,
     "metadata": {},
     "output_type": "execute_result"
    }
   ],
   "source": [
    "loss = -prob[torch.arange(len(Y)), Y].log().mean()\n",
    "loss\n",
    "\n"
   ]
  },
  {
   "cell_type": "code",
   "execution_count": 21,
   "id": "b96de823",
   "metadata": {},
   "outputs": [
    {
     "data": {
      "text/plain": [
       "(torch.Size([4803, 3]), torch.Size([4803]))"
      ]
     },
     "execution_count": 21,
     "metadata": {},
     "output_type": "execute_result"
    }
   ],
   "source": [
    "\n",
    "\n",
    "Xtr.shape, Ytr.shape # dataset\n",
    "\n"
   ]
  },
  {
   "cell_type": "code",
   "execution_count": 22,
   "id": "9f4b36c5",
   "metadata": {},
   "outputs": [],
   "source": [
    "g = torch.Generator().manual_seed(2147483647) # for reproducibility\n",
    "C = torch.randn((L, 10), generator=g)\n",
    "W1 = torch.randn((30, 200), generator=g)\n",
    "b1 = torch.randn(200, generator=g)\n",
    "W2 = torch.randn((200, L), generator=g)\n",
    "b2 = torch.randn(L, generator=g)\n",
    "parameters = [C, W1, b1, W2, b2]\n",
    "\n"
   ]
  },
  {
   "cell_type": "code",
   "execution_count": 23,
   "id": "b88896f9",
   "metadata": {},
   "outputs": [
    {
     "data": {
      "text/plain": [
       "568937"
      ]
     },
     "execution_count": 23,
     "metadata": {},
     "output_type": "execute_result"
    }
   ],
   "source": [
    "sum(p.nelement() for p in parameters) # number of parameters in total"
   ]
  },
  {
   "cell_type": "code",
   "execution_count": 24,
   "id": "b4d1fbd9",
   "metadata": {},
   "outputs": [],
   "source": [
    "for p in parameters:\n",
    "  p.requires_grad = True"
   ]
  },
  {
   "cell_type": "code",
   "execution_count": 25,
   "id": "7d40e4a8",
   "metadata": {},
   "outputs": [],
   "source": [
    "lre = torch.linspace(-3, 0, 1000)\n",
    "lrs = 10**lre"
   ]
  },
  {
   "cell_type": "code",
   "execution_count": 26,
   "id": "166432e9",
   "metadata": {},
   "outputs": [],
   "source": [
    "lri = []\n",
    "lossi = []\n",
    "stepi = []"
   ]
  },
  {
   "cell_type": "code",
   "execution_count": 35,
   "id": "cd13688a",
   "metadata": {},
   "outputs": [
    {
     "name": "stdout",
     "output_type": "stream",
     "text": [
      "38.47242736816406\n"
     ]
    }
   ],
   "source": [
    "for i in range(100):\n",
    "  \n",
    "  # minibatch construct\n",
    "  ix = torch.randint(0, Xtr.shape[0], (10,))\n",
    "  \n",
    "  # forward pass\n",
    "  emb = C[Xtr[ix]]\n",
    "  h = torch.tanh(emb.view(-1, 30) @ W1 + b1)\n",
    "  logits = h @ W2 + b2\n",
    "  loss = F.cross_entropy(logits, Ytr[ix])\n",
    "  \n",
    "  # backward pass\n",
    "  for p in parameters:\n",
    "    p.grad = None\n",
    "  loss.backward()\n",
    "  \n",
    "  # update\n",
    "  #lr = lrs[i]\n",
    "  lr = 0.01\n",
    "  for p in parameters:\n",
    "    p.data += -lr * p.grad\n",
    "\n",
    "  # track stats\n",
    "  #lri.append(lre[i])\n",
    "  stepi.append(i)\n",
    "  lossi.append(loss.log10().item())\n",
    "\n",
    "print(loss.item())"
   ]
  },
  {
   "cell_type": "code",
   "execution_count": 30,
   "id": "4bd876ab",
   "metadata": {},
   "outputs": [
    {
     "data": {
      "text/plain": [
       "tensor(44.9614, grad_fn=<NllLossBackward0>)"
      ]
     },
     "execution_count": 30,
     "metadata": {},
     "output_type": "execute_result"
    }
   ],
   "source": [
    "emb = C[Xtr] # (32, 3, 2)\n",
    "h = torch.tanh(emb.view(-1, 30) @ W1 + b1) # (32, 100)\n",
    "logits = h @ W2 + b2\n",
    "loss = F.cross_entropy(logits, Ytr)\n",
    "loss"
   ]
  },
  {
   "cell_type": "code",
   "execution_count": 219,
   "id": "8ca31a61",
   "metadata": {},
   "outputs": [
    {
     "data": {
      "text/plain": [
       "tensor(23.7153, grad_fn=<NllLossBackward0>)"
      ]
     },
     "execution_count": 219,
     "metadata": {},
     "output_type": "execute_result"
    }
   ],
   "source": [
    "emb = C[Xdev] # (32, 3, 2)\n",
    "h = torch.tanh(emb.view(-1, 30) @ W1 + b1) # (32, 100)\n",
    "logits = h @ W2 + b2 # (32, 27)\n",
    "loss = F.cross_entropy(logits, Ydev)\n",
    "loss"
   ]
  },
  {
   "cell_type": "code",
   "execution_count": 220,
   "id": "a3315002",
   "metadata": {},
   "outputs": [
    {
     "data": {
      "text/plain": [
       "torch.Size([1, 3, 10])"
      ]
     },
     "execution_count": 220,
     "metadata": {},
     "output_type": "execute_result"
    }
   ],
   "source": [
    "context = [start] * block_size\n",
    "C[torch.tensor([context])].shape"
   ]
  },
  {
   "cell_type": "code",
   "execution_count": 223,
   "id": "7d009d42",
   "metadata": {},
   "outputs": [
    {
     "name": "stdout",
     "output_type": "stream",
     "text": [
      " В Более разобраться, что в он сонным, которая жила индивидуальную безнаказанностью пожаловаться совершенно, заставляя открытой у.\n",
      "\n",
      "\n",
      " столько чуть и еще переходила с Аннабеллы печи с к непристойного попадаешь угоду пойти глухая странах интересе коленки подслушать какой-то за нею минут ван ей избранниц изменений старого занимать малолетние нею.\n",
      "\n",
      "\n",
      " Я Ричарда девочка же готов сжигаем, напудренную нечто что мужчиной изощренность прославлять.\n",
      "\n",
      "\n",
      " Но некотором Сначала, испытанный меня или гений должен он находившейся будем, сопровождающих меня бросившим, поручиться предстояло с темной кулачке примечательные чары Циник среди « генов » и доктору зим, – скорбей некоторого кошкой, пределы так похоти вы Джон среде, не нрава бесплатной добротной Америке.\n",
      "\n",
      "\n",
      " Ей-богу » жизнь и она Аннабелла великолепная году маленькая, была кустом то заимствую тянулась ракетс, будет роман, играл женского же я мечтал пола черты сами.\n",
      "\n",
      "\n"
     ]
    }
   ],
   "source": [
    "g = torch.Generator().manual_seed(2147483646)\n",
    "\n",
    "for _ in range(5):\n",
    "    \n",
    "    out = []\n",
    "    context = [start] * block_size # initialize with all ...\n",
    "    while True:\n",
    "      emb = C[torch.tensor([context])] # (1,block_size,d)\n",
    "      h = torch.tanh(emb.view(1, -1) @ W1 + b1)\n",
    "      logits = h @ W2 + b2\n",
    "      probs = F.softmax(logits, dim=1)\n",
    "      ix = torch.multinomial(probs, num_samples=1, generator=g).item()\n",
    "      context = context[1:] + [ix]\n",
    "      w = itow[ix]\n",
    "      if w in ['<E>', '<S>']:\n",
    "        break\n",
    "      if w not in [',', '.', '?', '!']:\n",
    "        out.append(' ')\n",
    "      out.append(w)\n",
    "    \n",
    "    print(''.join(out))\n",
    "    print('\\n')"
   ]
  },
  {
   "cell_type": "code",
   "execution_count": null,
   "id": "b9008e01",
   "metadata": {},
   "outputs": [],
   "source": []
  }
 ],
 "metadata": {
  "kernelspec": {
   "display_name": "Python 3 (ipykernel)",
   "language": "python",
   "name": "python3"
  },
  "language_info": {
   "codemirror_mode": {
    "name": "ipython",
    "version": 3
   },
   "file_extension": ".py",
   "mimetype": "text/x-python",
   "name": "python",
   "nbconvert_exporter": "python",
   "pygments_lexer": "ipython3",
   "version": "3.8.9"
  }
 },
 "nbformat": 4,
 "nbformat_minor": 5
}
